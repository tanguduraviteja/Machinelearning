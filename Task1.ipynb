{
 "cells": [
  {
   "cell_type": "markdown",
   "metadata": {},
   "source": [
    "# Task1 Name:TanguduRaviteja"
   ]
  },
  {
   "cell_type": "code",
   "execution_count": 1,
   "metadata": {},
   "outputs": [
    {
     "name": "stdout",
     "output_type": "stream",
     "text": [
      "    Hours  Scores\n",
      "0     2.5      21\n",
      "1     5.1      47\n",
      "2     3.2      27\n",
      "3     8.5      75\n",
      "4     3.5      30\n",
      "5     1.5      20\n",
      "6     9.2      88\n",
      "7     5.5      60\n",
      "8     8.3      81\n",
      "9     2.7      25\n",
      "10    7.7      85\n",
      "11    5.9      62\n",
      "12    4.5      41\n",
      "13    3.3      42\n",
      "14    1.1      17\n",
      "15    8.9      95\n",
      "16    2.5      30\n",
      "17    1.9      24\n",
      "18    6.1      67\n",
      "19    7.4      69\n",
      "20    2.7      30\n",
      "21    4.8      54\n",
      "22    3.8      35\n",
      "23    6.9      76\n",
      "24    7.8      86\n"
     ]
    }
   ],
   "source": [
    "import numpy as np\n",
    "import pandas as pd\n",
    "url ='http://bit.ly/w-data'\n",
    "dataframe=pd.read_csv(url)\n",
    "print(dataframe)"
   ]
  },
  {
   "cell_type": "code",
   "execution_count": 2,
   "metadata": {},
   "outputs": [
    {
     "data": {
      "image/png": "[encoded data removed]",
      "text/plain": [
       "<Figure size 432x288 with 1 Axes>"
      ]
     },
     "metadata": {
      "needs_background": "light"
     },
     "output_type": "display_data"
    }
   ],
   "source": [
    "%matplotlib  inline\n",
    "import matplotlib.pyplot as plt\n",
    "plt.scatter(dataframe['Hours'],dataframe['Scores'],label='percentage scores')\n",
    "plt.xlabel('Hours Studied')\n",
    "plt.ylabel('percentage Scores')\n",
    "plt.legend()\n",
    "plt.show()"
   ]
  },
  {
   "cell_type": "code",
   "execution_count": 18,
   "metadata": {},
   "outputs": [
    {
     "name": "stdout",
     "output_type": "stream",
     "text": [
      "mean of studied hours: 5.012\n"
     ]
    }
   ],
   "source": [
    "mean_x=np.mean(dataframe['Hours'])\n",
    "print(\"mean of studied hours: \"+str(mean_x))"
   ]
  },
  {
   "cell_type": "code",
   "execution_count": 19,
   "metadata": {},
   "outputs": [
    {
     "name": "stdout",
     "output_type": "stream",
     "text": [
      "mean of percentage scores: 51.48\n"
     ]
    }
   ],
   "source": [
    "mean_y=np.average(dataframe['Scores'])\n",
    "print(\"mean of percentage scores: \"+str(mean_y))"
   ]
  },
  {
   "cell_type": "markdown",
   "metadata": {},
   "source": [
    "linear regression line y=mx+c"
   ]
  },
  {
   "cell_type": "code",
   "execution_count": 20,
   "metadata": {},
   "outputs": [
    {
     "name": "stdout",
     "output_type": "stream",
     "text": [
      "9.775803390787475\n",
      "2.4836734053731746\n"
     ]
    }
   ],
   "source": [
    "list=dataframe['Hours']\n",
    "list1=dataframe['Scores']\n",
    "numerator=0\n",
    "denominator=0\n",
    "for i in range(0,len(list)):\n",
    "    numerator+=(list[i]-mean_x)*(list1[i]-mean_y)\n",
    "    denominator+=(list[i]-mean_x)**2\n",
    "b0=numerator/denominator\n",
    "b1=mean_y-(b0*mean_x)\n",
    "print(b0)\n",
    "print(b1)"
   ]
  },
  {
   "cell_type": "code",
   "execution_count": 21,
   "metadata": {},
   "outputs": [
    {
     "data": {
      "image/png": "[encoded data removed]",
      "text/plain": [
       "<Figure size 432x288 with 1 Axes>"
      ]
     },
     "metadata": {
      "needs_background": "light"
     },
     "output_type": "display_data"
    }
   ],
   "source": [
    "line=b0*dataframe['Hours']+b1\n",
    "plt.scatter(dataframe['Hours'],dataframe['Scores'],label='percentage scores')\n",
    "plt.plot(dataframe['Hours'],line,color='r')\n",
    "plt.xlabel('Hours Studied')\n",
    "plt.ylabel('percentage Scores')\n",
    "plt.legend()\n",
    "plt.show()"
   ]
  },
  {
   "cell_type": "code",
   "execution_count": 22,
   "metadata": {},
   "outputs": [
    {
     "name": "stdout",
     "output_type": "stream",
     "text": [
      "0.9529481969048356\n"
     ]
    }
   ],
   "source": [
    "nume=0\n",
    "deno=0\n",
    "for i in range(0,len(list1)):\n",
    "    ypredic=b0*list[i]+b1\n",
    "    nume+=(list1[i]-ypredic)**2\n",
    "    deno+=(list1[i]-mean_y)**2\n",
    "r=1-(nume/deno)\n",
    "print(r)"
   ]
  },
  {
   "cell_type": "code",
   "execution_count": 23,
   "metadata": {},
   "outputs": [
    {
     "name": "stdout",
     "output_type": "stream",
     "text": [
      "92.90985477015732\n"
     ]
    }
   ],
   "source": [
    "ypredict=b0*9.25+b1\n",
    "print(ypredict)"
   ]
  },
  {
   "cell_type": "code",
   "execution_count": 27,
   "metadata": {},
   "outputs": [
    {
     "name": "stdout",
     "output_type": "stream",
     "text": [
      "4.972805319866378\n"
     ]
    }
   ],
   "source": [
    "mean_absolute_error=0\n",
    "for i in range(0,len(list1)):\n",
    "    ypredi=b0*list[i]+b1\n",
    "    mean_absolute_error+=abs(ypredi-list1[i])\n",
    "print(mean_absolute_error/len(list1))"
   ]
  },
  {
   "cell_type": "code",
   "execution_count": null,
   "metadata": {},
   "outputs": [],
   "source": []
  },
  {
   "cell_type": "code",
   "execution_count": null,
   "metadata": {},
   "outputs": [],
   "source": []
  },
  {
   "cell_type": "code",
   "execution_count": null,
   "metadata": {},
   "outputs": [],
   "source": []
  }
 ],
 "metadata": {
  "kernelspec": {
   "display_name": "Python 3",
   "language": "python",
   "name": "python3"
  },
  "language_info": {
   "codemirror_mode": {
    "name": "ipython",
    "version": 3
   },
   "file_extension": ".py",
   "mimetype": "text/x-python",
   "name": "python",
   "nbconvert_exporter": "python",
   "pygments_lexer": "ipython3",
   "version": "3.7.4"
  }
 },
 "nbformat": 4,
 "nbformat_minor": 2
}
